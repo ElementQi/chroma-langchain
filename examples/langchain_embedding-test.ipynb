{
 "cells": [
  {
   "cell_type": "code",
   "execution_count": 1,
   "id": "e58024a8-727e-4a05-9a5a-72ce3c91f5a5",
   "metadata": {},
   "outputs": [],
   "source": [
    "from langchain_openai import OpenAIEmbeddings\n",
    "from chroma_langchain.splitters import ClusterSemanticSplitter\n",
    "import os"
   ]
  },
  {
   "cell_type": "code",
   "execution_count": 2,
   "id": "a4dbc205-cf1e-4b0f-85ea-4c5921ee2dc6",
   "metadata": {},
   "outputs": [],
   "source": [
    "os.environ[\"OPENAI_API_KEY\"] = \"xxx\""
   ]
  },
  {
   "cell_type": "code",
   "execution_count": 3,
   "id": "3c5728ff-27ad-4b95-be66-c919588bd1dd",
   "metadata": {},
   "outputs": [],
   "source": [
    "embed = OpenAIEmbeddings(\n",
    "    base_url=\"https://one-api.s.metames.cn:38443/v1\",\n",
    "    api_key=os.getenv(\"OPENAI_API_KEY\"),\n",
    "    model=\"bce-embedding-base_v1\",\n",
    ")"
   ]
  },
  {
   "cell_type": "code",
   "execution_count": 4,
   "id": "afaccc71-142c-489c-903c-73be26e6a4c2",
   "metadata": {},
   "outputs": [],
   "source": [
    "inputs = [\"\"\"When that business was over, he applied to Miss Bingley and Elizabeth\n",
    "\n",
    "for the indulgence of some music. Miss Bingley moved with alacrity to\n",
    "\n",
    "the pianoforte, and after a polite request that Elizabeth would lead the\n",
    "\n",
    "way, which the other as politely and more earnestly negatived, she\n",
    "\n",
    "seated herself.\n",
    "Elizabeth, having rather expected to affront him, was amazed at his\n",
    "\n",
    "gallantry; but there was a mixture of sweetness and archness in her\n",
    "\n",
    "manner which made it difficult for her to affront anybody, and Darcy had\n",
    "\n",
    "never been so bewitched by any woman as he was by her. He really\n",
    "\n",
    "believed that, were it not for the inferiority of her connections, he\n",
    "\n",
    "should be in some danger.\"\"\",\n",
    "          \"\"\"Mrs. Hurst sang with her sister; and while they were thus employed,\n",
    "\n",
    "Elizabeth could not help observing, as she turned over some music-books\n",
    "\n",
    "that lay on the instrument, how frequently Mr. Darcy’s eyes were fixed\n",
    "\n",
    "on her. She hardly knew how to suppose that she could be an object of\n",
    "\n",
    "admiration to so great a man, and yet that he should look at her because\n",
    "\n",
    "he disliked her was still more strange. She could only imagine, however,\n",
    "\n",
    "at last, that she drew his notice because there was something about her\n",
    "\n",
    "more wrong and reprehensible, according to his ideas of right, than in\n",
    "\n",
    "any other person present. The supposition did not pain her. She liked\n",
    "\n",
    "him too little to care for his approbation.\"\"\"]"
   ]
  },
  {
   "cell_type": "code",
   "execution_count": 5,
   "id": "8349bc71-d01c-49e0-bbec-cb5ae67de37f",
   "metadata": {},
   "outputs": [],
   "source": [
    "ts = ClusterSemanticSplitter(embedding_function=embed)"
   ]
  },
  {
   "cell_type": "code",
   "execution_count": 6,
   "id": "37349ef9-bea0-44cb-9b23-39551a7f5169",
   "metadata": {},
   "outputs": [
    {
     "data": {
      "text/plain": [
       "['When that business was over, he applied to Miss Bingley and Elizabeth\\n\\nfor the indulgence of some music. Miss Bingley moved with alacrity to\\n\\nthe pianoforte, and after a polite request that Elizabeth would lead the way, which the other as politely and more earnestly negatived, she\\n\\nseated herself.\\nElizabeth, having rather expected to affront him, was amazed at his',\n",
       " 'gallantry; but there was a mixture of sweetness and archness in her\\n\\nmanner which made it difficult for her to affront anybody, and Darcy had',\n",
       " 'never been so bewitched by any woman as he was by her. He really\\n\\nbelieved that, were it not for the inferiority of her connections, he\\n\\nshould be in some danger.']"
      ]
     },
     "execution_count": 6,
     "metadata": {},
     "output_type": "execute_result"
    }
   ],
   "source": [
    "ts.split_text(inputs[0])"
   ]
  },
  {
   "cell_type": "code",
   "execution_count": null,
   "id": "73f3459b-f2ce-4853-ac67-ccd068ceed6a",
   "metadata": {},
   "outputs": [],
   "source": []
  }
 ],
 "metadata": {
  "kernelspec": {
   "display_name": "Python 3 (ipykernel)",
   "language": "python",
   "name": "python3"
  },
  "language_info": {
   "codemirror_mode": {
    "name": "ipython",
    "version": 3
   },
   "file_extension": ".py",
   "mimetype": "text/x-python",
   "name": "python",
   "nbconvert_exporter": "python",
   "pygments_lexer": "ipython3",
   "version": "3.10.14"
  }
 },
 "nbformat": 4,
 "nbformat_minor": 5
}
