{
 "cells": [
  {
   "cell_type": "code",
   "execution_count": 1,
   "id": "cb3f25fb-a70c-4b65-971d-b60dedc9dd2a",
   "metadata": {},
   "outputs": [],
   "source": [
    "from chroma_langchain.splitters import (\n",
    "    KamradtModifiedTextSplitter,\n",
    "    ClusterSemanticSplitter,\n",
    "    LLMSemanticSplitter\n",
    ")\n",
    "import os"
   ]
  },
  {
   "cell_type": "code",
   "execution_count": 2,
   "id": "350decff-cc48-4ed1-a825-96e8516fd5a9",
   "metadata": {},
   "outputs": [],
   "source": [
    "os.environ[\"OPENAI_API_KEY\"] = \"xxx\""
   ]
  },
  {
   "cell_type": "code",
   "execution_count": 3,
   "id": "abc9cd3f-343a-4c5a-99fa-c3383fc4544d",
   "metadata": {},
   "outputs": [],
   "source": [
    "# collect from pride and prejudice\n",
    "text = \"\"\"“Dear Sir,\n",
    "\n",
    "\n",
    "\n",
    "     “The disagreement subsisting between yourself and my late honoured\n",
    "\n",
    "     father always gave me much uneasiness; and, since I have had the\n",
    "\n",
    "     misfortune to lose him, I have frequently wished to heal the\n",
    "\n",
    "     breach: but, for some time, I was kept back by my own doubts,\n",
    "\n",
    "     fearing lest it might seem disrespectful to his memory for me to be\n",
    "\n",
    "     on good terms with anyone with whom it had always pleased him to be\n",
    "\n",
    "     at variance.”--‘There, Mrs. Bennet.’--“My mind, however, is now\n",
    "\n",
    "     made up on the subject; for, having received ordination at Easter,\n",
    "\n",
    "     I have been so fortunate as to be distinguished by the patronage of\n",
    "\n",
    "     the Right Honourable Lady Catherine de Bourgh, widow of Sir Lewis\n",
    "\n",
    "     de Bourgh, whose bounty and beneficence has preferred me to the\n",
    "\n",
    "     valuable rectory of this parish, where it shall be my earnest\n",
    "\n",
    "     endeavour to demean myself with grateful respect towards her\n",
    "\n",
    "     Ladyship, and be ever ready to perform those rites and ceremonies\n",
    "\n",
    "     which are instituted by the Church of England. As a clergyman,\n",
    "\n",
    "     moreover, I feel it my duty to promote and establish the blessing\n",
    "\n",
    "     of peace in all families within the reach of my influence; and on\n",
    "\n",
    "     these grounds I flatter myself that my present overtures of\n",
    "\n",
    "     good-will are highly commendable, and that the circumstance of my\n",
    "\n",
    "     being next in the entail of Longbourn estate will be kindly\n",
    "\n",
    "     overlooked on your side, and not lead you to reject the offered\n",
    "\n",
    "     olive branch. I cannot be otherwise than concerned at being the\n",
    "\n",
    "     means of injuring your amiable daughters, and beg leave to\n",
    "\n",
    "     apologize for it, as well as to assure you of my readiness to make\n",
    "\n",
    "     them every possible amends; but of this hereafter. If you should\n",
    "\n",
    "     have no objection to receive me into your house, I propose myself\n",
    "\n",
    "     the satisfaction of waiting on you and your family, Monday,\n",
    "\n",
    "     November 18th, by four o’clock, and shall probably trespass on your\n",
    "\n",
    "     hospitality till the Saturday se’nnight following, which I can do\n",
    "\n",
    "     without any inconvenience, as Lady Catherine is far from objecting\n",
    "\n",
    "     to my occasional absence on a Sunday, provided that some other\n",
    "\n",
    "     clergyman is engaged to do the duty of the day. I remain, dear sir,\n",
    "\n",
    "     with respectful compliments to your lady and daughters, your\n",
    "\n",
    "     well-wisher and friend,\n",
    "\n",
    "\n",
    "\n",
    "“WILLIAM COLLINS.”\"\"\""
   ]
  },
  {
   "cell_type": "code",
   "execution_count": 4,
   "id": "285644f0-cd08-4518-8a27-c03b5e1ca22e",
   "metadata": {},
   "outputs": [],
   "source": [
    "kamradt_ts = KamradtModifiedTextSplitter()"
   ]
  },
  {
   "cell_type": "code",
   "execution_count": 5,
   "id": "d82283e6-7187-4378-a11e-596b667c9d33",
   "metadata": {},
   "outputs": [
    {
     "data": {
      "text/plain": [
       "['“Dear Sir,\\n\\n\\n\\n     “The disagreement subsisting between yourself and my late honoured\\n\\n     father always gave me much uneasiness; and, since I have had the misfortune to lose him, I have frequently wished to heal the\\n\\n     breach: but, for some time, I was kept back by my own doubts,\\n\\n     fearing lest it might seem disrespectful to his memory for me to be on good terms with anyone with whom it had always pleased him to be\\n\\n     at variance.”--‘There, Mrs. Bennet.’--“My mind, however, is now made up on the subject; for, having received ordination at Easter,\\n\\n     I have been so fortunate as to be distinguished by the patronage of\\n\\n     the Right Honourable Lady Catherine de Bourgh, widow of Sir Lewis de Bourgh, whose bounty and beneficence has preferred me to the\\n\\n     valuable rectory of this parish, where it shall be my earnest\\n\\n     endeavour to demean myself with grateful respect towards her Ladyship, and be ever ready to perform those rites and ceremonies\\n\\n     which are instituted by the Church of England. As a clergyman,\\n\\n     moreover, I feel it my duty to promote and establish the blessing of peace in all families within the reach of my influence; and on\\n\\n     these grounds I flatter myself that my present overtures of\\n\\n     good-will are highly commendable, and that the circumstance of my being next in the entail of Longbourn estate will be kindly\\n\\n     overlooked on your side, and not lead you to reject the offered\\n\\n     olive branch. I cannot be otherwise than concerned at being the',\n",
       " 'means of injuring your amiable daughters, and beg leave to\\n\\n     apologize for it, as well as to assure you of my readiness to make\\n\\n     them every possible amends; but of this hereafter. If you should have no objection to receive me into your house, I propose myself\\n\\n     the satisfaction of waiting on you and your family, Monday,\\n\\n     November 18th, by four o’clock, and shall probably trespass on your hospitality till the Saturday se’nnight following, which I can do\\n\\n     without any inconvenience, as Lady Catherine is far from objecting\\n\\n     to my occasional absence on a Sunday, provided that some other clergyman is engaged to do the duty of the day. I remain, dear sir,\\n\\n     with respectful compliments to your lady and daughters, your\\n\\n     well-wisher and friend,\\n\\n\\n\\n“WILLIAM COLLINS.”']"
      ]
     },
     "execution_count": 5,
     "metadata": {},
     "output_type": "execute_result"
    }
   ],
   "source": [
    "chunks_kamradt = kamradt_ts.split_text(text)\n",
    "chunks_kamradt"
   ]
  },
  {
   "cell_type": "code",
   "execution_count": 6,
   "id": "b6428ecf-715c-4b9d-a20f-0ef58cc37a75",
   "metadata": {},
   "outputs": [
    {
     "data": {
      "text/plain": [
       "2"
      ]
     },
     "execution_count": 6,
     "metadata": {},
     "output_type": "execute_result"
    }
   ],
   "source": [
    "len(chunks_kamradt)"
   ]
  },
  {
   "cell_type": "code",
   "execution_count": 7,
   "id": "75333c9d-1c7d-4af4-841b-1824bdbe0cbf",
   "metadata": {},
   "outputs": [],
   "source": [
    "cluster_semantic_ts = ClusterSemanticSplitter()"
   ]
  },
  {
   "cell_type": "code",
   "execution_count": 8,
   "id": "3e924f96-3cef-4317-b42b-9e0d6db1c07f",
   "metadata": {},
   "outputs": [
    {
     "data": {
      "text/plain": [
       "['“Dear Sir,\\n\\n\\n\\n     “The disagreement subsisting between yourself and my late honoured\\n\\n     father always gave me much uneasiness; and, since I have had the misfortune to lose him, I have frequently wished to heal the\\n\\n     breach: but, for some time, I was kept back by my own doubts,\\n\\n     fearing lest it might seem disrespectful to his memory for me to be on good terms with anyone with whom it had always pleased him to be\\n\\n     at variance.”--‘There, Mrs. Bennet.’--“My mind, however, is now',\n",
       " 'made up on the subject; for, having received ordination at Easter,\\n\\n     I have been so fortunate as to be distinguished by the patronage of\\n\\n     the Right Honourable Lady Catherine de Bourgh, widow of Sir Lewis de Bourgh, whose bounty and beneficence has preferred me to the\\n\\n     valuable rectory of this parish, where it shall be my earnest\\n\\n     endeavour to demean myself with grateful respect towards her Ladyship, and be ever ready to perform those rites and ceremonies\\n\\n     which are instituted by the Church of England. As a clergyman,\\n\\n     moreover, I feel it my duty to promote and establish the blessing of peace in all families within the reach of my influence; and on\\n\\n     these grounds I flatter myself that my present overtures of\\n\\n     good-will are highly commendable, and that the circumstance of my being next in the entail of Longbourn estate will be kindly\\n\\n     overlooked on your side, and not lead you to reject the offered\\n\\n     olive branch. I cannot be otherwise than concerned at being the',\n",
       " 'means of injuring your amiable daughters, and beg leave to\\n\\n     apologize for it, as well as to assure you of my readiness to make\\n\\n     them every possible amends; but of this hereafter. If you should have no objection to receive me into your house, I propose myself\\n\\n     the satisfaction of waiting on you and your family, Monday,\\n\\n     November 18th, by four o’clock, and shall probably trespass on your hospitality till the Saturday se’nnight following, which I can do\\n\\n     without any inconvenience, as Lady Catherine is far from objecting\\n\\n     to my occasional absence on a Sunday, provided that some other clergyman is engaged to do the duty of the day. I remain, dear sir,\\n\\n     with respectful compliments to your lady and daughters, your\\n\\n     well-wisher and friend,\\n\\n\\n\\n“WILLIAM COLLINS.”']"
      ]
     },
     "execution_count": 8,
     "metadata": {},
     "output_type": "execute_result"
    }
   ],
   "source": [
    "chunks_cluster_semantic = cluster_semantic_ts.split_text(text)\n",
    "chunks_cluster_semantic"
   ]
  },
  {
   "cell_type": "code",
   "execution_count": 9,
   "id": "f6ffb89e-5eee-4089-8f42-bc70563064f1",
   "metadata": {},
   "outputs": [
    {
     "data": {
      "text/plain": [
       "3"
      ]
     },
     "execution_count": 9,
     "metadata": {},
     "output_type": "execute_result"
    }
   ],
   "source": [
    "len(chunks_cluster_semantic)"
   ]
  },
  {
   "cell_type": "code",
   "execution_count": 10,
   "id": "b4dec6e1-093e-4b72-aa54-e0a838f6177e",
   "metadata": {},
   "outputs": [],
   "source": [
    "from langchain_core.documents import Document\n",
    "\n",
    "document = Document(\n",
    "    page_content=text,\n",
    ")"
   ]
  },
  {
   "cell_type": "code",
   "execution_count": 11,
   "id": "dff58f9a-3278-4bbb-a94c-eb07e8ed22b6",
   "metadata": {},
   "outputs": [],
   "source": [
    "llm_ts = LLMSemanticSplitter()"
   ]
  },
  {
   "cell_type": "code",
   "execution_count": 12,
   "id": "336a8789-ea75-44e5-99ce-71be69c6ad5d",
   "metadata": {},
   "outputs": [
    {
     "name": "stderr",
     "output_type": "stream",
     "text": [
      "Processing chunks:  83%|████████████████████████████████████████████████████▌          | 10/12 [00:00<00:00, 14.07it/s]\n"
     ]
    },
    {
     "data": {
      "text/plain": [
       "[Document(metadata={}, page_content='“Dear Sir,\\n\\n\\n\\n     “The disagreement subsisting between yourself and my late honoured\\n\\n     father always gave me much uneasiness; and, since I have had the misfortune to lose him, I have frequently wished to heal the\\n\\n     breach: but, for some time, I was kept back by my own doubts,\\n\\n     fearing lest it might seem disrespectful to his memory for me to be on good terms with anyone with whom it had always pleased him to be\\n\\n     at variance.”--‘There, Mrs. Bennet.’--“My mind, however, is now made up on the subject; for, having received ordination at Easter,\\n\\n     I have been so fortunate as to be distinguished by the patronage of\\n\\n     the Right Honourable Lady Catherine de Bourgh, widow of Sir Lewis'),\n",
       " Document(metadata={}, page_content='de Bourgh, whose bounty and beneficence has preferred me to the\\n\\n     valuable rectory of this parish, where it shall be my earnest\\n\\n     endeavour to demean myself with grateful respect towards her Ladyship, and be ever ready to perform those rites and ceremonies\\n\\n     which are instituted by the Church of England. As a clergyman,\\n\\n     moreover, I feel it my duty to promote and establish the blessing of peace in all families within the reach of my influence; and on\\n\\n     these grounds I flatter myself that my present overtures of\\n\\n     good-will are highly commendable, and that the circumstance of my'),\n",
       " Document(metadata={}, page_content='being next in the entail of Longbourn estate will be kindly\\n\\n     overlooked on your side, and not lead you to reject the offered\\n\\n     olive branch. I cannot be otherwise than concerned at being the means of injuring your amiable daughters, and beg leave to\\n\\n     apologize for it, as well as to assure you of my readiness to make\\n\\n     them every possible amends; but of this hereafter. If you should have no objection to receive me into your house, I propose myself\\n\\n     the satisfaction of waiting on you and your family, Monday,\\n\\n     November 18th, by four o’clock, and shall probably trespass on your'),\n",
       " Document(metadata={}, page_content='hospitality till the Saturday se’nnight following, which I can do\\n\\n     without any inconvenience, as Lady Catherine is far from objecting\\n\\n     to my occasional absence on a Sunday, provided that some other clergyman is engaged to do the duty of the day. I remain, dear sir,\\n\\n     with respectful compliments to your lady and daughters, your\\n\\n     well-wisher and friend,\\n\\n\\n\\n“WILLIAM COLLINS.”')]"
      ]
     },
     "execution_count": 12,
     "metadata": {},
     "output_type": "execute_result"
    }
   ],
   "source": [
    "llm_ts.transform_documents([document])"
   ]
  },
  {
   "cell_type": "code",
   "execution_count": 13,
   "id": "c3d0404d-e2a6-434a-9ac7-344e90a5ff5c",
   "metadata": {},
   "outputs": [
    {
     "name": "stderr",
     "output_type": "stream",
     "text": [
      "Processing chunks:  83%|████████████████████████████████████████████████████▌          | 10/12 [00:01<00:00,  7.22it/s]\n"
     ]
    },
    {
     "data": {
      "text/plain": [
       "['“Dear Sir,\\n\\n\\n\\n     “The disagreement subsisting between yourself and my late honoured\\n\\n     father always gave me much uneasiness; and, since I have had the misfortune to lose him, I have frequently wished to heal the\\n\\n     breach: but, for some time, I was kept back by my own doubts,\\n\\n     fearing lest it might seem disrespectful to his memory for me to be on good terms with anyone with whom it had always pleased him to be\\n\\n     at variance.”--‘There, Mrs. Bennet.’--“My mind, however, is now made up on the subject; for, having received ordination at Easter,\\n\\n     I have been so fortunate as to be distinguished by the patronage of\\n\\n     the Right Honourable Lady Catherine de Bourgh, widow of Sir Lewis',\n",
       " 'de Bourgh, whose bounty and beneficence has preferred me to the\\n\\n     valuable rectory of this parish, where it shall be my earnest\\n\\n     endeavour to demean myself with grateful respect towards her Ladyship, and be ever ready to perform those rites and ceremonies\\n\\n     which are instituted by the Church of England. As a clergyman,\\n\\n     moreover, I feel it my duty to promote and establish the blessing of peace in all families within the reach of my influence; and on\\n\\n     these grounds I flatter myself that my present overtures of\\n\\n     good-will are highly commendable, and that the circumstance of my',\n",
       " 'being next in the entail of Longbourn estate will be kindly\\n\\n     overlooked on your side, and not lead you to reject the offered\\n\\n     olive branch. I cannot be otherwise than concerned at being the means of injuring your amiable daughters, and beg leave to\\n\\n     apologize for it, as well as to assure you of my readiness to make\\n\\n     them every possible amends; but of this hereafter. If you should have no objection to receive me into your house, I propose myself\\n\\n     the satisfaction of waiting on you and your family, Monday,\\n\\n     November 18th, by four o’clock, and shall probably trespass on your',\n",
       " 'hospitality till the Saturday se’nnight following, which I can do\\n\\n     without any inconvenience, as Lady Catherine is far from objecting\\n\\n     to my occasional absence on a Sunday, provided that some other clergyman is engaged to do the duty of the day. I remain, dear sir,\\n\\n     with respectful compliments to your lady and daughters, your\\n\\n     well-wisher and friend,\\n\\n\\n\\n“WILLIAM COLLINS.”']"
      ]
     },
     "execution_count": 13,
     "metadata": {},
     "output_type": "execute_result"
    }
   ],
   "source": [
    "chunks_llm = llm_ts.split_text(text)\n",
    "chunks_llm"
   ]
  },
  {
   "cell_type": "code",
   "execution_count": 14,
   "id": "38fd33bd-8fbf-4d39-b351-c89d13c3d0ee",
   "metadata": {},
   "outputs": [
    {
     "data": {
      "text/plain": [
       "4"
      ]
     },
     "execution_count": 14,
     "metadata": {},
     "output_type": "execute_result"
    }
   ],
   "source": [
    "len(chunks_llm)"
   ]
  },
  {
   "cell_type": "code",
   "execution_count": null,
   "id": "af5922d2-4f18-4266-aeb9-e9f6ce3215cd",
   "metadata": {},
   "outputs": [],
   "source": []
  }
 ],
 "metadata": {
  "kernelspec": {
   "display_name": "Python 3 (ipykernel)",
   "language": "python",
   "name": "python3"
  },
  "language_info": {
   "codemirror_mode": {
    "name": "ipython",
    "version": 3
   },
   "file_extension": ".py",
   "mimetype": "text/x-python",
   "name": "python",
   "nbconvert_exporter": "python",
   "pygments_lexer": "ipython3",
   "version": "3.10.14"
  }
 },
 "nbformat": 4,
 "nbformat_minor": 5
}
