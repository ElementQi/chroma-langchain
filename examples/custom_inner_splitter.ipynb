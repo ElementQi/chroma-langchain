{
 "cells": [
  {
   "cell_type": "code",
   "execution_count": 1,
   "id": "3eae3fd7-78f7-40e9-af25-e05f767adfe6",
   "metadata": {},
   "outputs": [],
   "source": [
    "from chroma_langchain.splitters import ClusterSemanticSplitter, KamradtModifiedTextSplitter\n",
    "from langchain_text_splitters import CharacterTextSplitter\n",
    "import os\n",
    "\n",
    "os.environ[\"OPENAI_API_KEY\"] = \"xxx\""
   ]
  },
  {
   "cell_type": "code",
   "execution_count": 2,
   "id": "d1afeeea-12fb-43b2-89ae-d66e04e6d050",
   "metadata": {},
   "outputs": [],
   "source": [
    "text_splitter = CharacterTextSplitter.from_tiktoken_encoder(\n",
    "    chunk_size=300, chunk_overlap=0\n",
    ")"
   ]
  },
  {
   "cell_type": "code",
   "execution_count": 3,
   "id": "1203adc7-857a-437a-af12-fd39758ee8de",
   "metadata": {},
   "outputs": [],
   "source": [
    "with open(\"../data/pride_and_prejudice_demo.txt\", encoding=\"utf-8\") as fp:\n",
    "    text = fp.read()"
   ]
  },
  {
   "cell_type": "code",
   "execution_count": 4,
   "id": "0fcb6d85-dc30-4f78-901e-f416f5038044",
   "metadata": {},
   "outputs": [],
   "source": [
    "cluster_with_chara_splitter = ClusterSemanticSplitter(splitter=text_splitter, chunk_size=200)"
   ]
  },
  {
   "cell_type": "code",
   "execution_count": 5,
   "id": "c5d980ae-3d8c-424c-a449-cca825c9b3ab",
   "metadata": {},
   "outputs": [
    {
     "data": {
      "text/plain": [
       "['*** START OF THE PROJECT GUTENBERG EBOOK 1342 ***\\n\\n                            [Illustration:\\n\\n                             GEORGE ALLEN\\n\\n                               PUBLISHER\\n\\n                        156 CHARING CROSS ROAD\\n\\n                                LONDON\\n\\n                             RUSKIN HOUSE\\n\\n                                   ]\\n\\n                            [Illustration: _Reading Jane’s Letters._      _Chap 34._\\n\\n                                   ]\\n\\n                                PRIDE.\\n\\n                                  and\\n\\n                               PREJUDICE\\n\\n                                  by\\n\\n                             Jane Austen,\\n\\n                           with a Preface by George Saintsbury\\n\\n                                  and\\n\\n                           Illustrations by\\n\\n                             Hugh Thomson\\n\\n                         [Illustration: 1894]\\n\\n                       Ruskin       156. Charing\\n\\n                       House.        Cross Road.\\n\\n                                London\\n\\n                             George Allen.',\n",
       " 'CHISWICK PRESS:--CHARLES WHITTINGHAM AND CO.\\n\\n                  TOOKS COURT, CHANCERY LANE, LONDON.\\n\\n                            [Illustration:\\n\\n                          _To J. Comyns Carr\\n\\n                      in acknowledgment of all I\\n\\n                       owe to his friendship and\\n\\n                    advice, these illustrations are\\n\\n                         gratefully inscribed_\\n\\n                            _Hugh Thomson_ ]\\n\\nPREFACE.\\n\\n[Illustration]\\n\\n_Walt Whitman has somewhere a fine and just distinction between “loving\\n\\nby allowance” and “loving with personal love.” This distinction applies\\n\\nto books as well as to men and women; and in the case of the not very\\n\\nnumerous authors who are the objects of the personal affection, it\\n\\nbrings a curious consequence with it. There is much more difference as\\n\\nto their best work than in the case of those others who are loved “by\\n\\nallowance” by convention, and because it is felt to be the right and\\n\\nproper thing to love them. And in the sect--fairly large and yet\\n\\nunusually choice--of Austenians or Janites, there would probably be\\n\\nfound partisans of the claim to primacy of almost every one of the\\n\\nnovels. To some the delightful freshness and humour of_ Northanger\\n\\nAbbey, _its completeness, finish, and_ entrain, _obscure the undoubted\\n\\ncritical facts that its scale is small, and its scheme, after all, that\\n\\nof burlesque or parody, a kind in which the first rank is reached with',\n",
       " 'difficulty._ Persuasion, _relatively faint in tone, and not enthralling\\n\\nin interest, has devotees who exalt above all the others its exquisite\\n\\ndelicacy and keeping. The catastrophe of_ Mansfield Park _is admittedly\\n\\ntheatrical, the hero and heroine are insipid, and the author has almost\\n\\nwickedly destroyed all romantic interest by expressly admitting that\\n\\nEdmund only took Fanny because Mary shocked him, and that Fanny might\\n\\nvery likely have taken Crawford if he had been a little more assiduous;\\n\\nyet the matchless rehearsal-scenes and the characters of Mrs. Norris and\\n\\nothers have secured, I believe, a considerable party for it._ Sense and\\n\\nSensibility _has perhaps the fewest out-and-out admirers; but it does\\n\\nnot want them._\\n\\n_I suppose, however, that the majority of at least competent votes\\n\\nwould, all things considered, be divided between_ Emma _and the present\\n\\nbook; and perhaps the vulgar verdict (if indeed a fondness for Miss\\n\\nAusten be not of itself a patent of exemption from any possible charge\\n\\nof vulgarity) would go for_ Emma. _It is the larger, the more varied, the\\n\\nmore popular; the author had by the time of its composition seen rather\\n\\nmore of the world, and had improved her general, though not her most peculiar and characteristic dialogue; such figures as Miss Bates, as the\\n\\nEltons, cannot but unite the suffrages of everybody. On the other hand,\\n\\nI, for my part, declare for_ Pride and Prejudice _unhesitatingly. It\\n\\nseems to me the most perfect, the most characteristic, the most\\n\\neminently quintessential of its author’s works; and for this contention\\n\\nin such narrow space as is permitted to me, I propose here to show\\n\\ncause._\\n\\n_In the first place, the book (it may be barely necessary to remind the\\n\\nreader) was in its first shape written very early, somewhere about 1796,\\n\\nwhen Miss Austen was barely twenty-one; though it was revised and\\n\\nfinished at Chawton some fifteen years later, and was not published till\\n\\n1813, only four years before her death. I do not know whether, in this\\n\\ncombination of the fresh and vigorous projection of youth, and the\\n\\ncritical revision of middle life, there may be traced the distinct\\n\\nsuperiority in point of construction, which, as it seems to me, it\\n\\npossesses over all the others. The plot, though not elaborate, is almost\\n\\nregular enough for Fielding; hardly a character, hardly an incident\\n\\ncould be retrenched without loss to the story. The elopement of Lydia and Wickham is not, like that of Crawford and Mrs. Rushworth, a_ coup de\\n\\nthéâtre; _it connects itself in the strictest way with the course of the\\n\\nstory earlier, and brings about the denouement with complete propriety.\\n\\nAll the minor passages--the loves of Jane and Bingley, the advent of Mr.\\n\\nCollins, the visit to Hunsford, the Derbyshire tour--fit in after the\\n\\nsame unostentatious, but masterly fashion. There is no attempt at the\\n\\nhide-and-seek, in-and-out business, which in the transactions between\\n\\nFrank Churchill and Jane Fairfax contributes no doubt a good deal to the\\n\\nintrigue of_ Emma, _but contributes it in a fashion which I do not think\\n\\nthe best feature of that otherwise admirable book. Although Miss Austen\\n\\nalways liked something of the misunderstanding kind, which afforded her\\n\\nopportunities for the display of the peculiar and incomparable talent to\\n\\nbe noticed presently, she has been satisfied here with the perfectly\\n\\nnatural occasions provided by the false account of Darcy’s conduct given\\n\\nby Wickham, and by the awkwardness (arising with equal naturalness) from\\n\\nthe gradual transformation of Elizabeth’s own feelings from positive\\n\\naversion to actual love. I do not know whether the all-grasping hand of the playwright has ever been laid upon_ Pride and Prejudice; _and I dare\\n\\nsay that, if it were, the situations would prove not startling or\\n\\ngarish enough for the footlights, the character-scheme too subtle and\\n\\ndelicate for pit and gallery. But if the attempt were made, it would\\n\\ncertainly not be hampered by any of those loosenesses of construction,\\n\\nwhich, sometimes disguised by the conveniences of which the novelist can\\n\\navail himself, appear at once on the stage._\\n\\n_I think, however, though the thought will doubtless seem heretical to\\n\\nmore than one school of critics, that construction is not the highest\\n\\nmerit, the choicest gift, of the novelist. It sets off his other gifts\\n\\nand graces most advantageously to the critical eye; and the want of it\\n\\nwill sometimes mar those graces--appreciably, though not quite\\n\\nconsciously--to eyes by no means ultra-critical. But a very badly-built\\n\\nnovel which excelled in pathetic or humorous character, or which\\n\\ndisplayed consummate command of dialogue--perhaps the rarest of all\\n\\nfaculties--would be an infinitely better thing than a faultless plot\\n\\nacted and told by puppets with pebbles in their mouths. And despite the\\n\\nability which Miss Austen has shown in working out the story, I for one',\n",
       " 'should put_ Pride and Prejudice _far lower if it did not contain what\\n\\nseem to me the very masterpieces of Miss Austen’s humour and of her\\n\\nfaculty of character-creation--masterpieces who may indeed admit John\\n\\nThorpe, the Eltons, Mrs. Norris, and one or two others to their company,\\n\\nbut who, in one instance certainly, and perhaps in others, are still\\n\\nsuperior to them._\\n\\n_The characteristics of Miss Austen’s humour are so subtle and delicate\\n\\nthat they are, perhaps, at all times easier to apprehend than to\\n\\nexpress, and at any particular time likely to be differently\\n\\napprehended by different persons. To me this humour seems to possess a\\n\\ngreater affinity, on the whole, to that of Addison than to any other of\\n\\nthe numerous species of this great British genus. The differences of\\n\\nscheme, of time, of subject, of literary convention, are, of course,\\n\\nobvious enough; the difference of sex does not, perhaps, count for much,\\n\\nfor there was a distinctly feminine element in “Mr. Spectator,” and in\\n\\nJane Austen’s genius there was, though nothing mannish, much that was\\n\\nmasculine. But the likeness of quality consists in a great number of\\n\\ncommon subdivisions of quality--demureness, extreme minuteness of touch, avoidance of loud tones and glaring effects. Also there is in both a\\n\\ncertain not inhuman or unamiable cruelty. It is the custom with those\\n\\nwho judge grossly to contrast the good nature of Addison with the\\n\\nsavagery of Swift, the mildness of Miss Austen with the boisterousness\\n\\nof Fielding and Smollett, even with the ferocious practical jokes that\\n\\nher immediate predecessor, Miss Burney, allowed without very much\\n\\nprotest. Yet, both in Mr. Addison and in Miss Austen there is, though a\\n\\nrestrained and well-mannered, an insatiable and ruthless delight in\\n\\nroasting and cutting up a fool. A man in the early eighteenth century,\\n\\nof course, could push this taste further than a lady in the early\\n\\nnineteenth; and no doubt Miss Austen’s principles, as well as her heart,\\n\\nwould have shrunk from such things as the letter from the unfortunate\\n\\nhusband in the_ Spectator, _who describes, with all the gusto and all the\\n\\ninnocence in the world, how his wife and his friend induce him to play\\n\\nat blind-man’s-buff. But another_ Spectator _letter--that of the damsel\\n\\nof fourteen who wishes to marry Mr. Shapely, and assures her selected\\n\\nMentor that “he admires your_ Spectators _mightily”--might have been written by a rather more ladylike and intelligent Lydia Bennet in the\\n\\ndays of Lydia’s great-grandmother; while, on the other hand, some (I\\n\\nthink unreasonably) have found “cynicism” in touches of Miss Austen’s\\n\\nown, such as her satire of Mrs. Musgrove’s self-deceiving regrets over\\n\\nher son. But this word “cynical” is one of the most misused in the\\n\\nEnglish language, especially when, by a glaring and gratuitous\\n\\nfalsification of its original sense, it is applied, not to rough and\\n\\nsnarling invective, but to gentle and oblique satire. If cynicism means\\n\\nthe perception of “the other side,” the sense of “the accepted hells\\n\\nbeneath,” the consciousness that motives are nearly always mixed, and\\n\\nthat to seem is not identical with to be--if this be cynicism, then\\n\\nevery man and woman who is not a fool, who does not care to live in a\\n\\nfool’s paradise, who has knowledge of nature and the world and life, is\\n\\na cynic. And in that sense Miss Austen certainly was one. She may even\\n\\nhave been one in the further sense that, like her own Mr. Bennet, she took an epicurean delight in dissecting, in displaying, in setting at\\n\\nwork her fools and her mean persons. I think she did take this delight,\\n\\nand I do not think at all the worse of her for it as a woman, while she\\n\\nwas immensely the better for it as an artist._\\n\\n_In respect of her art generally, Mr. Goldwin Smith has truly observed\\n\\nthat “metaphor has been exhausted in depicting the perfection of it,\\n\\ncombined with the narrowness of her field;” and he has justly added that\\n\\nwe need not go beyond her own comparison to the art of a miniature\\n\\npainter. To make this latter observation quite exact we must not use the\\n\\nterm miniature in its restricted sense, and must think rather of Memling\\n\\nat one end of the history of painting and Meissonier at the other, than\\n\\nof Cosway or any of his kind. And I am not so certain that I should\\n\\nmyself use the word “narrow” in connection with her. If her world is a\\n\\nmicrocosm, the cosmic quality of it is at least as eminent as the\\n\\nlittleness. She does not touch what she did not feel herself called to\\n\\npaint; I am not so sure that she could not have painted what she did not\\n\\nfeel herself called to touch. It is at least remarkable that in two very',\n",
       " 'short periods of writing--one of about three years, and another of not\\n\\nmuch more than five--she executed six capital works, and has not left a\\n\\nsingle failure. It is possible that the romantic paste in her\\n\\ncomposition was defective: we must always remember that hardly\\n\\nanybody born in her decade--that of the eighteenth-century\\n\\nseventies--independently exhibited the full romantic quality. Even Scott\\n\\nrequired hill and mountain and ballad, even Coleridge metaphysics and\\n\\nGerman to enable them to chip the classical shell. Miss Austen was an\\n\\nEnglish girl, brought up in a country retirement, at the time when\\n\\nladies went back into the house if there was a white frost which might\\n\\npierce their kid shoes, when a sudden cold was the subject of the\\n\\ngravest fears, when their studies, their ways, their conduct were\\n\\nsubject to all those fantastic limits and restrictions against which\\n\\nMary Wollstonecraft protested with better general sense than particular\\n\\ntaste or judgment. Miss Austen, too, drew back when the white frost\\n\\ntouched her shoes; but I think she would have made a pretty good journey\\n\\neven in a black one._\\n\\n_For if her knowledge was not very extended, she knew two things which\\n\\nonly genius knows. The one was humanity, and the other was art. On the\\n\\nfirst head she could not make a mistake; her men, though limited, are',\n",
       " 'true, and her women are, in the old sense, “absolute.” As to art, if she\\n\\nhas never tried idealism, her realism is real to a degree which makes\\n\\nthe false realism of our own day look merely dead-alive. Take almost any\\n\\nFrenchman, except the late M. de Maupassant, and watch him laboriously\\n\\npiling up strokes in the hope of giving a complete impression. You get\\n\\nnone; you are lucky if, discarding two-thirds of what he gives, you can\\n\\nshape a real impression out of the rest. But with Miss Austen the\\n\\nmyriad, trivial, unforced strokes build up the picture like magic.\\n\\nNothing is false; nothing is superfluous. When (to take the present book\\n\\nonly) Mr. Collins changed his mind from Jane to Elizabeth “while Mrs.\\n\\nBennet was stirring the fire” (and we know_ how _Mrs. Bennet would have\\n\\nstirred the fire), when Mr. Darcy “brought his coffee-cup back_\\n\\nhimself,” _the touch in each case is like that of Swift--“taller by the\\n\\nbreadth of my nail”--which impressed the half-reluctant Thackeray with\\n\\njust and outspoken admiration. Indeed, fantastic as it may seem, I',\n",
       " 'should put Miss Austen as near to Swift in some ways, as I have put her\\n\\nto Addison in others._']"
      ]
     },
     "execution_count": 5,
     "metadata": {},
     "output_type": "execute_result"
    }
   ],
   "source": [
    "sentences_1 = cluster_with_chara_splitter.split_text(text)\n",
    "sentences_1"
   ]
  },
  {
   "cell_type": "code",
   "execution_count": 6,
   "id": "91a08ed5-111a-4e4c-aea7-ac57f0051e77",
   "metadata": {},
   "outputs": [
    {
     "data": {
      "text/plain": [
       "7"
      ]
     },
     "execution_count": 6,
     "metadata": {},
     "output_type": "execute_result"
    }
   ],
   "source": [
    "len(sentences_1)"
   ]
  },
  {
   "cell_type": "code",
   "execution_count": 7,
   "id": "8ed2593a-a9b3-4a26-bfdd-5ce10cd2065c",
   "metadata": {},
   "outputs": [],
   "source": [
    "sentences = text_splitter.split_text(text)"
   ]
  },
  {
   "cell_type": "code",
   "execution_count": 8,
   "id": "4a4630b7-e556-4db3-9bf9-6201734dce71",
   "metadata": {},
   "outputs": [
    {
     "data": {
      "text/plain": [
       "16"
      ]
     },
     "execution_count": 8,
     "metadata": {},
     "output_type": "execute_result"
    }
   ],
   "source": [
    "len(sentences)"
   ]
  },
  {
   "cell_type": "code",
   "execution_count": 9,
   "id": "fae2dc0f-140d-4fff-8655-6057068c73ec",
   "metadata": {},
   "outputs": [
    {
     "data": {
      "text/plain": [
       "['*** START OF THE PROJECT GUTENBERG EBOOK 1342 ***\\n\\n                            [Illustration:\\n\\n                             GEORGE ALLEN\\n\\n                               PUBLISHER\\n\\n                        156 CHARING CROSS ROAD\\n\\n                                LONDON\\n\\n                             RUSKIN HOUSE\\n\\n                                   ]\\n\\n                            [Illustration:',\n",
       " '_Reading Jane’s Letters._      _Chap 34._\\n\\n                                   ]\\n\\n                                PRIDE.\\n\\n                                  and\\n\\n                               PREJUDICE\\n\\n                                  by\\n\\n                             Jane Austen,\\n\\n                           with a Preface by',\n",
       " 'George Saintsbury\\n\\n                                  and\\n\\n                           Illustrations by\\n\\n                             Hugh Thomson\\n\\n                         [Illustration: 1894]\\n\\n                       Ruskin       156. Charing\\n\\n                       House.        Cross Road.\\n\\n                                London\\n\\n                             George Allen.',\n",
       " 'CHISWICK PRESS:--CHARLES WHITTINGHAM AND CO.\\n\\n                  TOOKS COURT, CHANCERY LANE, LONDON.\\n\\n                            [Illustration:\\n\\n                          _To J. Comyns Carr\\n\\n                      in acknowledgment of all I\\n\\n                       owe to his friendship and\\n\\n                    advice, these illustrations are\\n\\n                         gratefully inscribed_\\n\\n                            _Hugh Thomson_',\n",
       " ']\\n\\nPREFACE.\\n\\n[Illustration]\\n\\n_Walt Whitman has somewhere a fine and just distinction between “loving\\n\\nby allowance” and “loving with personal love.” This distinction applies\\n\\nto books as well as to men and women; and in the case of the not very\\n\\nnumerous authors who are the objects of the personal affection, it\\n\\nbrings a curious consequence with it. There is much more difference as\\n\\nto their best work than in the case of those others who are loved “by\\n\\nallowance” by convention, and because it is felt to be the right and\\n\\nproper thing to love them. And in the sect--fairly large and yet\\n\\nunusually choice--of Austenians or Janites, there would probably be\\n\\nfound partisans of the claim to primacy of almost every one of the\\n\\nnovels. To some the delightful freshness and humour of_ Northanger\\n\\nAbbey, _its completeness, finish, and_ entrain, _obscure the undoubted\\n\\ncritical facts that its scale is small, and its scheme, after all, that\\n\\nof burlesque or parody, a kind in which the first rank is reached with',\n",
       " 'difficulty._ Persuasion, _relatively faint in tone, and not enthralling\\n\\nin interest, has devotees who exalt above all the others its exquisite\\n\\ndelicacy and keeping. The catastrophe of_ Mansfield Park _is admittedly\\n\\ntheatrical, the hero and heroine are insipid, and the author has almost\\n\\nwickedly destroyed all romantic interest by expressly admitting that\\n\\nEdmund only took Fanny because Mary shocked him, and that Fanny might\\n\\nvery likely have taken Crawford if he had been a little more assiduous;\\n\\nyet the matchless rehearsal-scenes and the characters of Mrs. Norris and\\n\\nothers have secured, I believe, a considerable party for it._ Sense and\\n\\nSensibility _has perhaps the fewest out-and-out admirers; but it does\\n\\nnot want them._\\n\\n_I suppose, however, that the majority of at least competent votes\\n\\nwould, all things considered, be divided between_ Emma _and the present\\n\\nbook; and perhaps the vulgar verdict (if indeed a fondness for Miss\\n\\nAusten be not of itself a patent of exemption from any possible charge\\n\\nof vulgarity) would go for_ Emma. _It is the larger, the more varied, the\\n\\nmore popular; the author had by the time of its composition seen rather\\n\\nmore of the world, and had improved her general, though not her most',\n",
       " 'peculiar and characteristic dialogue; such figures as Miss Bates, as the\\n\\nEltons, cannot but unite the suffrages of everybody. On the other hand,\\n\\nI, for my part, declare for_ Pride and Prejudice _unhesitatingly. It\\n\\nseems to me the most perfect, the most characteristic, the most\\n\\neminently quintessential of its author’s works; and for this contention\\n\\nin such narrow space as is permitted to me, I propose here to show\\n\\ncause._\\n\\n_In the first place, the book (it may be barely necessary to remind the\\n\\nreader) was in its first shape written very early, somewhere about 1796,\\n\\nwhen Miss Austen was barely twenty-one; though it was revised and\\n\\nfinished at Chawton some fifteen years later, and was not published till\\n\\n1813, only four years before her death. I do not know whether, in this\\n\\ncombination of the fresh and vigorous projection of youth, and the\\n\\ncritical revision of middle life, there may be traced the distinct\\n\\nsuperiority in point of construction, which, as it seems to me, it\\n\\npossesses over all the others. The plot, though not elaborate, is almost\\n\\nregular enough for Fielding; hardly a character, hardly an incident\\n\\ncould be retrenched without loss to the story. The elopement of Lydia',\n",
       " 'and Wickham is not, like that of Crawford and Mrs. Rushworth, a_ coup de\\n\\nthéâtre; _it connects itself in the strictest way with the course of the\\n\\nstory earlier, and brings about the denouement with complete propriety.\\n\\nAll the minor passages--the loves of Jane and Bingley, the advent of Mr.\\n\\nCollins, the visit to Hunsford, the Derbyshire tour--fit in after the\\n\\nsame unostentatious, but masterly fashion. There is no attempt at the\\n\\nhide-and-seek, in-and-out business, which in the transactions between\\n\\nFrank Churchill and Jane Fairfax contributes no doubt a good deal to the\\n\\nintrigue of_ Emma, _but contributes it in a fashion which I do not think\\n\\nthe best feature of that otherwise admirable book. Although Miss Austen\\n\\nalways liked something of the misunderstanding kind, which afforded her\\n\\nopportunities for the display of the peculiar and incomparable talent to\\n\\nbe noticed presently, she has been satisfied here with the perfectly\\n\\nnatural occasions provided by the false account of Darcy’s conduct given\\n\\nby Wickham, and by the awkwardness (arising with equal naturalness) from\\n\\nthe gradual transformation of Elizabeth’s own feelings from positive\\n\\naversion to actual love. I do not know whether the all-grasping hand of',\n",
       " 'the playwright has ever been laid upon_ Pride and Prejudice; _and I dare\\n\\nsay that, if it were, the situations would prove not startling or\\n\\ngarish enough for the footlights, the character-scheme too subtle and\\n\\ndelicate for pit and gallery. But if the attempt were made, it would\\n\\ncertainly not be hampered by any of those loosenesses of construction,\\n\\nwhich, sometimes disguised by the conveniences of which the novelist can\\n\\navail himself, appear at once on the stage._\\n\\n_I think, however, though the thought will doubtless seem heretical to\\n\\nmore than one school of critics, that construction is not the highest\\n\\nmerit, the choicest gift, of the novelist. It sets off his other gifts\\n\\nand graces most advantageously to the critical eye; and the want of it\\n\\nwill sometimes mar those graces--appreciably, though not quite\\n\\nconsciously--to eyes by no means ultra-critical. But a very badly-built\\n\\nnovel which excelled in pathetic or humorous character, or which\\n\\ndisplayed consummate command of dialogue--perhaps the rarest of all\\n\\nfaculties--would be an infinitely better thing than a faultless plot\\n\\nacted and told by puppets with pebbles in their mouths. And despite the\\n\\nability which Miss Austen has shown in working out the story, I for one',\n",
       " 'should put_ Pride and Prejudice _far lower if it did not contain what\\n\\nseem to me the very masterpieces of Miss Austen’s humour and of her\\n\\nfaculty of character-creation--masterpieces who may indeed admit John\\n\\nThorpe, the Eltons, Mrs. Norris, and one or two others to their company,\\n\\nbut who, in one instance certainly, and perhaps in others, are still\\n\\nsuperior to them._\\n\\n_The characteristics of Miss Austen’s humour are so subtle and delicate\\n\\nthat they are, perhaps, at all times easier to apprehend than to\\n\\nexpress, and at any particular time likely to be differently\\n\\napprehended by different persons. To me this humour seems to possess a\\n\\ngreater affinity, on the whole, to that of Addison than to any other of\\n\\nthe numerous species of this great British genus. The differences of\\n\\nscheme, of time, of subject, of literary convention, are, of course,\\n\\nobvious enough; the difference of sex does not, perhaps, count for much,\\n\\nfor there was a distinctly feminine element in “Mr. Spectator,” and in\\n\\nJane Austen’s genius there was, though nothing mannish, much that was\\n\\nmasculine. But the likeness of quality consists in a great number of\\n\\ncommon subdivisions of quality--demureness, extreme minuteness of touch,',\n",
       " 'avoidance of loud tones and glaring effects. Also there is in both a\\n\\ncertain not inhuman or unamiable cruelty. It is the custom with those\\n\\nwho judge grossly to contrast the good nature of Addison with the\\n\\nsavagery of Swift, the mildness of Miss Austen with the boisterousness\\n\\nof Fielding and Smollett, even with the ferocious practical jokes that\\n\\nher immediate predecessor, Miss Burney, allowed without very much\\n\\nprotest. Yet, both in Mr. Addison and in Miss Austen there is, though a\\n\\nrestrained and well-mannered, an insatiable and ruthless delight in\\n\\nroasting and cutting up a fool. A man in the early eighteenth century,\\n\\nof course, could push this taste further than a lady in the early\\n\\nnineteenth; and no doubt Miss Austen’s principles, as well as her heart,\\n\\nwould have shrunk from such things as the letter from the unfortunate\\n\\nhusband in the_ Spectator, _who describes, with all the gusto and all the\\n\\ninnocence in the world, how his wife and his friend induce him to play\\n\\nat blind-man’s-buff. But another_ Spectator _letter--that of the damsel\\n\\nof fourteen who wishes to marry Mr. Shapely, and assures her selected\\n\\nMentor that “he admires your_ Spectators _mightily”--might have been',\n",
       " 'written by a rather more ladylike and intelligent Lydia Bennet in the\\n\\ndays of Lydia’s great-grandmother; while, on the other hand, some (I\\n\\nthink unreasonably) have found “cynicism” in touches of Miss Austen’s\\n\\nown, such as her satire of Mrs. Musgrove’s self-deceiving regrets over\\n\\nher son. But this word “cynical” is one of the most misused in the\\n\\nEnglish language, especially when, by a glaring and gratuitous\\n\\nfalsification of its original sense, it is applied, not to rough and\\n\\nsnarling invective, but to gentle and oblique satire. If cynicism means\\n\\nthe perception of “the other side,” the sense of “the accepted hells\\n\\nbeneath,” the consciousness that motives are nearly always mixed, and\\n\\nthat to seem is not identical with to be--if this be cynicism, then\\n\\nevery man and woman who is not a fool, who does not care to live in a\\n\\nfool’s paradise, who has knowledge of nature and the world and life, is\\n\\na cynic. And in that sense Miss Austen certainly was one. She may even\\n\\nhave been one in the further sense that, like her own Mr. Bennet, she',\n",
       " 'took an epicurean delight in dissecting, in displaying, in setting at\\n\\nwork her fools and her mean persons. I think she did take this delight,\\n\\nand I do not think at all the worse of her for it as a woman, while she\\n\\nwas immensely the better for it as an artist._\\n\\n_In respect of her art generally, Mr. Goldwin Smith has truly observed\\n\\nthat “metaphor has been exhausted in depicting the perfection of it,\\n\\ncombined with the narrowness of her field;” and he has justly added that\\n\\nwe need not go beyond her own comparison to the art of a miniature\\n\\npainter. To make this latter observation quite exact we must not use the\\n\\nterm miniature in its restricted sense, and must think rather of Memling\\n\\nat one end of the history of painting and Meissonier at the other, than\\n\\nof Cosway or any of his kind. And I am not so certain that I should\\n\\nmyself use the word “narrow” in connection with her. If her world is a\\n\\nmicrocosm, the cosmic quality of it is at least as eminent as the\\n\\nlittleness. She does not touch what she did not feel herself called to\\n\\npaint; I am not so sure that she could not have painted what she did not\\n\\nfeel herself called to touch. It is at least remarkable that in two very',\n",
       " 'short periods of writing--one of about three years, and another of not\\n\\nmuch more than five--she executed six capital works, and has not left a\\n\\nsingle failure. It is possible that the romantic paste in her\\n\\ncomposition was defective: we must always remember that hardly\\n\\nanybody born in her decade--that of the eighteenth-century\\n\\nseventies--independently exhibited the full romantic quality. Even Scott\\n\\nrequired hill and mountain and ballad, even Coleridge metaphysics and\\n\\nGerman to enable them to chip the classical shell. Miss Austen was an\\n\\nEnglish girl, brought up in a country retirement, at the time when\\n\\nladies went back into the house if there was a white frost which might\\n\\npierce their kid shoes, when a sudden cold was the subject of the\\n\\ngravest fears, when their studies, their ways, their conduct were\\n\\nsubject to all those fantastic limits and restrictions against which\\n\\nMary Wollstonecraft protested with better general sense than particular\\n\\ntaste or judgment. Miss Austen, too, drew back when the white frost\\n\\ntouched her shoes; but I think she would have made a pretty good journey\\n\\neven in a black one._\\n\\n_For if her knowledge was not very extended, she knew two things which\\n\\nonly genius knows. The one was humanity, and the other was art. On the\\n\\nfirst head she could not make a mistake; her men, though limited, are',\n",
       " 'true, and her women are, in the old sense, “absolute.” As to art, if she\\n\\nhas never tried idealism, her realism is real to a degree which makes\\n\\nthe false realism of our own day look merely dead-alive. Take almost any\\n\\nFrenchman, except the late M. de Maupassant, and watch him laboriously\\n\\npiling up strokes in the hope of giving a complete impression. You get\\n\\nnone; you are lucky if, discarding two-thirds of what he gives, you can\\n\\nshape a real impression out of the rest. But with Miss Austen the\\n\\nmyriad, trivial, unforced strokes build up the picture like magic.\\n\\nNothing is false; nothing is superfluous. When (to take the present book\\n\\nonly) Mr. Collins changed his mind from Jane to Elizabeth “while Mrs.\\n\\nBennet was stirring the fire” (and we know_ how _Mrs. Bennet would have\\n\\nstirred the fire), when Mr. Darcy “brought his coffee-cup back_\\n\\nhimself,” _the touch in each case is like that of Swift--“taller by the\\n\\nbreadth of my nail”--which impressed the half-reluctant Thackeray with\\n\\njust and outspoken admiration. Indeed, fantastic as it may seem, I',\n",
       " 'should put Miss Austen as near to Swift in some ways, as I have put her\\n\\nto Addison in others._']"
      ]
     },
     "execution_count": 9,
     "metadata": {},
     "output_type": "execute_result"
    }
   ],
   "source": [
    "sentences"
   ]
  },
  {
   "cell_type": "code",
   "execution_count": 10,
   "id": "1fd2b17c-8518-4f42-9a30-a674d43b6e96",
   "metadata": {},
   "outputs": [],
   "source": [
    "from chunking_evaluation.chunking import RecursiveTokenChunker"
   ]
  },
  {
   "cell_type": "code",
   "execution_count": 11,
   "id": "e5bb328e-d069-4e53-8416-5231bdb2ffd9",
   "metadata": {},
   "outputs": [],
   "source": [
    "from chunking_evaluation.utils import openai_token_count\n",
    "recursive_splitter = RecursiveTokenChunker(\n",
    "                chunk_size=50,\n",
    "                chunk_overlap=0,\n",
    "                length_function=openai_token_count,\n",
    "                separators=[\"\\n\\n\", \"\\n\", \".\", \"?\", \"!\", \" \", \"\"],\n",
    "            )"
   ]
  },
  {
   "cell_type": "code",
   "execution_count": 12,
   "id": "000c5830-8d14-4ba4-abcf-b89b86252827",
   "metadata": {},
   "outputs": [
    {
     "data": {
      "text/plain": [
       "82"
      ]
     },
     "execution_count": 12,
     "metadata": {},
     "output_type": "execute_result"
    }
   ],
   "source": [
    "a = recursive_splitter.split_text(text)\n",
    "len(a)"
   ]
  },
  {
   "cell_type": "code",
   "execution_count": 13,
   "id": "d57ad036-340b-4d5c-bb47-2194b3e17cd0",
   "metadata": {},
   "outputs": [],
   "source": [
    "batch_sentences = a[0 : 0 + 500]"
   ]
  },
  {
   "cell_type": "code",
   "execution_count": 14,
   "id": "06daffb5-efb8-402e-a141-e9e01d6f1090",
   "metadata": {},
   "outputs": [
    {
     "data": {
      "text/plain": [
       "82"
      ]
     },
     "execution_count": 14,
     "metadata": {},
     "output_type": "execute_result"
    }
   ],
   "source": [
    "len(batch_sentences)"
   ]
  },
  {
   "cell_type": "code",
   "execution_count": 15,
   "id": "ec614fe0-ca49-4895-8ff6-218d61306059",
   "metadata": {},
   "outputs": [],
   "source": [
    "ts_2 = ClusterSemanticSplitter(batch_size=10)"
   ]
  },
  {
   "cell_type": "code",
   "execution_count": 16,
   "id": "4293cee5-f0b2-475a-99ea-44beca12a653",
   "metadata": {},
   "outputs": [
    {
     "data": {
      "text/plain": [
       "['*** START OF THE PROJECT GUTENBERG EBOOK 1342 ***\\n\\n\\n\\n\\n\\n\\n\\n\\n\\n                            [Illustration:\\n\\n\\n\\n                             GEORGE ALLEN\\n\\n                               PUBLISHER\\n\\n\\n\\n                        156 CHARING CROSS ROAD LONDON\\n\\n\\n\\n                             RUSKIN HOUSE\\n\\n                                   ]\\n\\n\\n\\n                            [Illustration:\\n\\n\\n\\n               _Reading Jane’s Letters._      _Chap 34._\\n\\n                                   ]\\n\\n\\n\\n\\n\\n\\n\\n\\n\\n                                PRIDE. and\\n\\n                               PREJUDICE\\n\\n\\n\\n                                  by\\n\\n                             Jane Austen,\\n\\n\\n\\n                           with a Preface by\\n\\n                           George Saintsbury\\n\\n                                  and\\n\\n                           Illustrations by\\n\\n                             Hugh Thomson [Illustration: 1894]\\n\\n\\n\\n                       Ruskin       156. Charing\\n\\n                       House.        Cross Road.\\n\\n\\n\\n                                London\\n\\n                             George Allen. CHISWICK PRESS:--CHARLES WHITTINGHAM AND CO.\\n\\n                  TOOKS COURT, CHANCERY LANE, LONDON.\\n\\n\\n\\n\\n\\n\\n\\n\\n\\n                            [Illustration: _To J. Comyns Carr\\n\\n                      in acknowledgment of all I\\n\\n                       owe to his friendship and\\n\\n                    advice, these illustrations are\\n\\n                         gratefully inscribed_\\n\\n\\n\\n                            _Hugh Thomson_\\n\\n                                   ] PREFACE.\\n\\n\\n\\n[Illustration]\\n\\n\\n\\n\\n\\n_Walt Whitman has somewhere a fine and just distinction between “loving\\n\\nby allowance” and “loving with personal love.” This distinction applies',\n",
       " 'to books as well as to men and women; and in the case of the not very\\n\\nnumerous authors who are the objects of the personal affection, it\\n\\nbrings a curious consequence with it. There is much more difference as to their best work than in the case of those others who are loved “by\\n\\nallowance” by convention, and because it is felt to be the right and',\n",
       " 'proper thing to love them. And in the sect--fairly large and yet\\n\\nunusually choice--of Austenians or Janites, there would probably be\\n\\nfound partisans of the claim to primacy of almost every one of the novels. To some the delightful freshness and humour of_ Northanger\\n\\nAbbey, _its completeness, finish, and_ entrain, _obscure the undoubted critical facts that its scale is small, and its scheme, after all, that\\n\\nof burlesque or parody, a kind in which the first rank is reached with difficulty._ Persuasion, _relatively faint in tone, and not enthralling\\n\\nin interest, has devotees who exalt above all the others its exquisite delicacy and keeping. The catastrophe of_ Mansfield Park _is admittedly\\n\\ntheatrical, the hero and heroine are insipid, and the author has almost\\n\\nwickedly destroyed all romantic interest by expressly admitting that Edmund only took Fanny because Mary shocked him, and that Fanny might\\n\\nvery likely have taken Crawford if he had been a little more assiduous;\\n\\nyet the matchless rehearsal-scenes and the characters of Mrs. Norris and others have secured, I believe, a considerable party for it._ Sense and\\n\\nSensibility _has perhaps the fewest out-and-out admirers; but it does\\n\\nnot want them._ _I suppose, however, that the majority of at least competent votes\\n\\nwould, all things considered, be divided between_ Emma _and the present\\n\\nbook; and perhaps the vulgar verdict (if indeed a fondness for Miss',\n",
       " 'Austen be not of itself a patent of exemption from any possible charge\\n\\nof vulgarity) would go for_ Emma. _It is the larger, the more varied, the',\n",
       " 'more popular; the author had by the time of its composition seen rather\\n\\nmore of the world, and had improved her general, though not her most\\n\\npeculiar and characteristic dialogue; such figures as Miss Bates, as the',\n",
       " 'Eltons, cannot but unite the suffrages of everybody. On the other hand,\\n\\nI, for my part, declare for_ Pride and Prejudice _unhesitatingly. It seems to me the most perfect, the most characteristic, the most\\n\\neminently quintessential of its author’s works; and for this contention\\n\\nin such narrow space as is permitted to me, I propose here to show\\n\\ncause._ _In the first place, the book (it may be barely necessary to remind the\\n\\nreader) was in its first shape written very early, somewhere about 1796,\\n\\nwhen Miss Austen was barely twenty-one; though it was revised and finished at Chawton some fifteen years later, and was not published till\\n\\n1813, only four years before her death. I do not know whether, in this\\n\\ncombination of the fresh and vigorous projection of youth, and the critical revision of middle life, there may be traced the distinct\\n\\nsuperiority in point of construction, which, as it seems to me, it\\n\\npossesses over all the others. The plot, though not elaborate, is almost regular enough for Fielding; hardly a character, hardly an incident\\n\\ncould be retrenched without loss to the story. The elopement of Lydia and Wickham is not, like that of Crawford and Mrs. Rushworth, a_ coup de\\n\\nthéâtre; _it connects itself in the strictest way with the course of the story earlier, and brings about the denouement with complete propriety.\\n\\nAll the minor passages--the loves of Jane and Bingley, the advent of Mr.',\n",
       " 'Collins, the visit to Hunsford, the Derbyshire tour--fit in after the\\n\\nsame unostentatious, but masterly fashion. There is no attempt at the',\n",
       " 'hide-and-seek, in-and-out business, which in the transactions between\\n\\nFrank Churchill and Jane Fairfax contributes no doubt a good deal to the\\n\\nintrigue of_ Emma, _but contributes it in a fashion which I do not think',\n",
       " 'the best feature of that otherwise admirable book. Although Miss Austen\\n\\nalways liked something of the misunderstanding kind, which afforded her\\n\\nopportunities for the display of the peculiar and incomparable talent to',\n",
       " 'be noticed presently, she has been satisfied here with the perfectly\\n\\nnatural occasions provided by the false account of Darcy’s conduct given\\n\\nby Wickham, and by the awkwardness (arising with equal naturalness) from',\n",
       " 'the gradual transformation of Elizabeth’s own feelings from positive\\n\\naversion to actual love. I do not know whether the all-grasping hand of\\n\\nthe playwright has ever been laid upon_ Pride and Prejudice; _and I dare',\n",
       " 'say that, if it were, the situations would prove not startling or\\n\\ngarish enough for the footlights, the character-scheme too subtle and\\n\\ndelicate for pit and gallery. But if the attempt were made, it would certainly not be hampered by any of those loosenesses of construction,\\n\\nwhich, sometimes disguised by the conveniences of which the novelist can\\n\\navail himself, appear at once on the stage._',\n",
       " '_I think, however, though the thought will doubtless seem heretical to\\n\\nmore than one school of critics, that construction is not the highest\\n\\nmerit, the choicest gift, of the novelist. It sets off his other gifts',\n",
       " 'and graces most advantageously to the critical eye; and the want of it\\n\\nwill sometimes mar those graces--appreciably, though not quite consciously--to eyes by no means ultra-critical. But a very badly-built\\n\\nnovel which excelled in pathetic or humorous character, or which\\n\\ndisplayed consummate command of dialogue--perhaps the rarest of all faculties--would be an infinitely better thing than a faultless plot\\n\\nacted and told by puppets with pebbles in their mouths. And despite the ability which Miss Austen has shown in working out the story, I for one\\n\\nshould put_ Pride and Prejudice _far lower if it did not contain what seem to me the very masterpieces of Miss Austen’s humour and of her\\n\\nfaculty of character-creation--masterpieces who may indeed admit John Thorpe, the Eltons, Mrs. Norris, and one or two others to their company,\\n\\nbut who, in one instance certainly, and perhaps in others, are still\\n\\nsuperior to them._ _The characteristics of Miss Austen’s humour are so subtle and delicate\\n\\nthat they are, perhaps, at all times easier to apprehend than to\\n\\nexpress, and at any particular time likely to be differently apprehended by different persons. To me this humour seems to possess a\\n\\ngreater affinity, on the whole, to that of Addison than to any other of\\n\\nthe numerous species of this great British genus. The differences of',\n",
       " 'scheme, of time, of subject, of literary convention, are, of course,\\n\\nobvious enough; the difference of sex does not, perhaps, count for much,',\n",
       " 'for there was a distinctly feminine element in “Mr. Spectator,” and in\\n\\nJane Austen’s genius there was, though nothing mannish, much that was\\n\\nmasculine. But the likeness of quality consists in a great number of',\n",
       " 'common subdivisions of quality--demureness, extreme minuteness of touch,\\n\\navoidance of loud tones and glaring effects. Also there is in both a',\n",
       " 'certain not inhuman or unamiable cruelty. It is the custom with those\\n\\nwho judge grossly to contrast the good nature of Addison with the',\n",
       " 'savagery of Swift, the mildness of Miss Austen with the boisterousness\\n\\nof Fielding and Smollett, even with the ferocious practical jokes that\\n\\nher immediate predecessor, Miss Burney, allowed without very much',\n",
       " 'protest. Yet, both in Mr. Addison and in Miss Austen there is, though a\\n\\nrestrained and well-mannered, an insatiable and ruthless delight in',\n",
       " 'roasting and cutting up a fool. A man in the early eighteenth century,\\n\\nof course, could push this taste further than a lady in the early nineteenth; and no doubt Miss Austen’s principles, as well as her heart,\\n\\nwould have shrunk from such things as the letter from the unfortunate husband in the_ Spectator, _who describes, with all the gusto and all the\\n\\ninnocence in the world, how his wife and his friend induce him to play at blind-man’s-buff. But another_ Spectator _letter--that of the damsel\\n\\nof fourteen who wishes to marry Mr. Shapely, and assures her selected',\n",
       " 'Mentor that “he admires your_ Spectators _mightily”--might have been\\n\\nwritten by a rather more ladylike and intelligent Lydia Bennet in the',\n",
       " 'days of Lydia’s great-grandmother; while, on the other hand, some (I\\n\\nthink unreasonably) have found “cynicism” in touches of Miss Austen’s',\n",
       " 'own, such as her satire of Mrs. Musgrove’s self-deceiving regrets over\\n\\nher son. But this word “cynical” is one of the most misused in the',\n",
       " 'English language, especially when, by a glaring and gratuitous\\n\\nfalsification of its original sense, it is applied, not to rough and\\n\\nsnarling invective, but to gentle and oblique satire. If cynicism means the perception of “the other side,” the sense of “the accepted hells\\n\\nbeneath,” the consciousness that motives are nearly always mixed, and\\n\\nthat to seem is not identical with to be--if this be cynicism, then every man and woman who is not a fool, who does not care to live in a\\n\\nfool’s paradise, who has knowledge of nature and the world and life, is',\n",
       " 'a cynic. And in that sense Miss Austen certainly was one. She may even\\n\\nhave been one in the further sense that, like her own Mr. Bennet, she took an epicurean delight in dissecting, in displaying, in setting at\\n\\nwork her fools and her mean persons. I think she did take this delight, and I do not think at all the worse of her for it as a woman, while she\\n\\nwas immensely the better for it as an artist._\\n\\n\\n\\n_In respect of her art generally, Mr. Goldwin Smith has truly observed',\n",
       " 'that “metaphor has been exhausted in depicting the perfection of it,\\n\\ncombined with the narrowness of her field;” and he has justly added that\\n\\nwe need not go beyond her own comparison to the art of a miniature painter. To make this latter observation quite exact we must not use the\\n\\nterm miniature in its restricted sense, and must think rather of Memling\\n\\nat one end of the history of painting and Meissonier at the other, than of Cosway or any of his kind. And I am not so certain that I should\\n\\nmyself use the word “narrow” in connection with her. If her world is a microcosm, the cosmic quality of it is at least as eminent as the\\n\\nlittleness. She does not touch what she did not feel herself called to paint; I am not so sure that she could not have painted what she did not\\n\\nfeel herself called to touch. It is at least remarkable that in two very\\n\\nshort periods of writing--one of about three years, and another of not much more than five--she executed six capital works, and has not left a\\n\\nsingle failure. It is possible that the romantic paste in her\\n\\ncomposition was defective: we must always remember that hardly anybody born in her decade--that of the eighteenth-century\\n\\nseventies--independently exhibited the full romantic quality. Even Scott\\n\\nrequired hill and mountain and ballad, even Coleridge metaphysics and German to enable them to chip the classical shell. Miss Austen was an\\n\\nEnglish girl, brought up in a country retirement, at the time when\\n\\nladies went back into the house if there was a white frost which might',\n",
       " 'pierce their kid shoes, when a sudden cold was the subject of the\\n\\ngravest fears, when their studies, their ways, their conduct were\\n\\nsubject to all those fantastic limits and restrictions against which',\n",
       " 'Mary Wollstonecraft protested with better general sense than particular\\n\\ntaste or judgment. Miss Austen, too, drew back when the white frost\\n\\ntouched her shoes; but I think she would have made a pretty good journey even in a black one._\\n\\n\\n\\n_For if her knowledge was not very extended, she knew two things which\\n\\nonly genius knows. The one was humanity, and the other was art. On the',\n",
       " 'first head she could not make a mistake; her men, though limited, are\\n\\ntrue, and her women are, in the old sense, “absolute.” As to art, if she',\n",
       " 'has never tried idealism, her realism is real to a degree which makes\\n\\nthe false realism of our own day look merely dead-alive. Take almost any Frenchman, except the late M. de Maupassant, and watch him laboriously\\n\\npiling up strokes in the hope of giving a complete impression. You get none; you are lucky if, discarding two-thirds of what he gives, you can\\n\\nshape a real impression out of the rest. But with Miss Austen the myriad, trivial, unforced strokes build up the picture like magic.\\n\\nNothing is false; nothing is superfluous. When (to take the present book only) Mr. Collins changed his mind from Jane to Elizabeth “while Mrs.\\n\\nBennet was stirring the fire” (and we know_ how _Mrs. Bennet would have stirred the fire), when Mr. Darcy “brought his coffee-cup back_\\n\\nhimself,” _the touch in each case is like that of Swift--“taller by the breadth of my nail”--which impressed the half-reluctant Thackeray with\\n\\njust and outspoken admiration. Indeed, fantastic as it may seem, I should put Miss Austen as near to Swift in some ways, as I have put her\\n\\nto Addison in others._']"
      ]
     },
     "execution_count": 16,
     "metadata": {},
     "output_type": "execute_result"
    }
   ],
   "source": [
    "sentences_2 = ts_2.split_text(text)\n",
    "sentences_2"
   ]
  },
  {
   "cell_type": "code",
   "execution_count": 17,
   "id": "c566868c-6f05-4783-a705-a15aeed6b581",
   "metadata": {},
   "outputs": [
    {
     "data": {
      "text/plain": [
       "31"
      ]
     },
     "execution_count": 17,
     "metadata": {},
     "output_type": "execute_result"
    }
   ],
   "source": [
    "len(sentences_2)"
   ]
  },
  {
   "cell_type": "code",
   "execution_count": 18,
   "id": "de82b955-7833-4b7e-a820-d17704f07400",
   "metadata": {},
   "outputs": [
    {
     "data": {
      "text/plain": [
       "1712"
      ]
     },
     "execution_count": 18,
     "metadata": {},
     "output_type": "execute_result"
    }
   ],
   "source": [
    "len(sentences_2[0])"
   ]
  },
  {
   "cell_type": "code",
   "execution_count": 19,
   "id": "e23c65ef-e129-41f6-8468-0bd74d21526b",
   "metadata": {},
   "outputs": [
    {
     "data": {
      "text/plain": [
       "349"
      ]
     },
     "execution_count": 19,
     "metadata": {},
     "output_type": "execute_result"
    }
   ],
   "source": [
    "len(sentences_2[1])"
   ]
  },
  {
   "cell_type": "code",
   "execution_count": 20,
   "id": "35bbec61-54ac-48cf-b6cf-ddf9495a6663",
   "metadata": {},
   "outputs": [
    {
     "data": {
      "text/plain": [
       "1429"
      ]
     },
     "execution_count": 20,
     "metadata": {},
     "output_type": "execute_result"
    }
   ],
   "source": [
    "len(sentences_2[2])"
   ]
  },
  {
   "cell_type": "code",
   "execution_count": 21,
   "id": "c56bd82e-02e2-415e-8290-9d5411582521",
   "metadata": {},
   "outputs": [
    {
     "data": {
      "text/plain": [
       "8"
      ]
     },
     "execution_count": 21,
     "metadata": {},
     "output_type": "execute_result"
    }
   ],
   "source": [
    "ts_2.max_cluster"
   ]
  },
  {
   "cell_type": "code",
   "execution_count": 25,
   "id": "ae8d1d9b-0236-4fb5-bcad-83daa25b1e7b",
   "metadata": {},
   "outputs": [
    {
     "data": {
      "text/plain": [
       "['*** START OF THE PROJECT GUTENBERG EBOOK 1342 ***\\n\\n                            [Illustration:\\n\\n                             GEORGE ALLEN\\n\\n                               PUBLISHER\\n\\n                        156 CHARING CROSS ROAD\\n\\n                                LONDON\\n\\n                             RUSKIN HOUSE\\n\\n                                   ]\\n\\n                            [Illustration: _Reading Jane’s Letters._      _Chap 34._\\n\\n                                   ]\\n\\n                                PRIDE.\\n\\n                                  and\\n\\n                               PREJUDICE\\n\\n                                  by\\n\\n                             Jane Austen,\\n\\n                           with a Preface by George Saintsbury\\n\\n                                  and\\n\\n                           Illustrations by\\n\\n                             Hugh Thomson\\n\\n                         [Illustration: 1894]\\n\\n                       Ruskin       156. Charing\\n\\n                       House.        Cross Road.\\n\\n                                London\\n\\n                             George Allen. CHISWICK PRESS:--CHARLES WHITTINGHAM AND CO.\\n\\n                  TOOKS COURT, CHANCERY LANE, LONDON.\\n\\n                            [Illustration:\\n\\n                          _To J. Comyns Carr\\n\\n                      in acknowledgment of all I\\n\\n                       owe to his friendship and\\n\\n                    advice, these illustrations are\\n\\n                         gratefully inscribed_\\n\\n                            _Hugh Thomson_',\n",
       " ']\\n\\nPREFACE.\\n\\n[Illustration]\\n\\n_Walt Whitman has somewhere a fine and just distinction between “loving\\n\\nby allowance” and “loving with personal love.” This distinction applies\\n\\nto books as well as to men and women; and in the case of the not very\\n\\nnumerous authors who are the objects of the personal affection, it\\n\\nbrings a curious consequence with it. There is much more difference as\\n\\nto their best work than in the case of those others who are loved “by\\n\\nallowance” by convention, and because it is felt to be the right and\\n\\nproper thing to love them. And in the sect--fairly large and yet\\n\\nunusually choice--of Austenians or Janites, there would probably be\\n\\nfound partisans of the claim to primacy of almost every one of the\\n\\nnovels. To some the delightful freshness and humour of_ Northanger\\n\\nAbbey, _its completeness, finish, and_ entrain, _obscure the undoubted\\n\\ncritical facts that its scale is small, and its scheme, after all, that\\n\\nof burlesque or parody, a kind in which the first rank is reached with',\n",
       " 'difficulty._ Persuasion, _relatively faint in tone, and not enthralling\\n\\nin interest, has devotees who exalt above all the others its exquisite\\n\\ndelicacy and keeping. The catastrophe of_ Mansfield Park _is admittedly\\n\\ntheatrical, the hero and heroine are insipid, and the author has almost\\n\\nwickedly destroyed all romantic interest by expressly admitting that\\n\\nEdmund only took Fanny because Mary shocked him, and that Fanny might\\n\\nvery likely have taken Crawford if he had been a little more assiduous;\\n\\nyet the matchless rehearsal-scenes and the characters of Mrs. Norris and\\n\\nothers have secured, I believe, a considerable party for it._ Sense and\\n\\nSensibility _has perhaps the fewest out-and-out admirers; but it does\\n\\nnot want them._\\n\\n_I suppose, however, that the majority of at least competent votes\\n\\nwould, all things considered, be divided between_ Emma _and the present\\n\\nbook; and perhaps the vulgar verdict (if indeed a fondness for Miss\\n\\nAusten be not of itself a patent of exemption from any possible charge\\n\\nof vulgarity) would go for_ Emma. _It is the larger, the more varied, the\\n\\nmore popular; the author had by the time of its composition seen rather\\n\\nmore of the world, and had improved her general, though not her most',\n",
       " 'peculiar and characteristic dialogue; such figures as Miss Bates, as the\\n\\nEltons, cannot but unite the suffrages of everybody. On the other hand,\\n\\nI, for my part, declare for_ Pride and Prejudice _unhesitatingly. It\\n\\nseems to me the most perfect, the most characteristic, the most\\n\\neminently quintessential of its author’s works; and for this contention\\n\\nin such narrow space as is permitted to me, I propose here to show\\n\\ncause._\\n\\n_In the first place, the book (it may be barely necessary to remind the\\n\\nreader) was in its first shape written very early, somewhere about 1796,\\n\\nwhen Miss Austen was barely twenty-one; though it was revised and\\n\\nfinished at Chawton some fifteen years later, and was not published till\\n\\n1813, only four years before her death. I do not know whether, in this\\n\\ncombination of the fresh and vigorous projection of youth, and the\\n\\ncritical revision of middle life, there may be traced the distinct\\n\\nsuperiority in point of construction, which, as it seems to me, it\\n\\npossesses over all the others. The plot, though not elaborate, is almost\\n\\nregular enough for Fielding; hardly a character, hardly an incident\\n\\ncould be retrenched without loss to the story. The elopement of Lydia',\n",
       " 'and Wickham is not, like that of Crawford and Mrs. Rushworth, a_ coup de\\n\\nthéâtre; _it connects itself in the strictest way with the course of the\\n\\nstory earlier, and brings about the denouement with complete propriety.\\n\\nAll the minor passages--the loves of Jane and Bingley, the advent of Mr.\\n\\nCollins, the visit to Hunsford, the Derbyshire tour--fit in after the\\n\\nsame unostentatious, but masterly fashion. There is no attempt at the\\n\\nhide-and-seek, in-and-out business, which in the transactions between\\n\\nFrank Churchill and Jane Fairfax contributes no doubt a good deal to the\\n\\nintrigue of_ Emma, _but contributes it in a fashion which I do not think\\n\\nthe best feature of that otherwise admirable book. Although Miss Austen\\n\\nalways liked something of the misunderstanding kind, which afforded her\\n\\nopportunities for the display of the peculiar and incomparable talent to\\n\\nbe noticed presently, she has been satisfied here with the perfectly\\n\\nnatural occasions provided by the false account of Darcy’s conduct given\\n\\nby Wickham, and by the awkwardness (arising with equal naturalness) from\\n\\nthe gradual transformation of Elizabeth’s own feelings from positive\\n\\naversion to actual love. I do not know whether the all-grasping hand of',\n",
       " 'the playwright has ever been laid upon_ Pride and Prejudice; _and I dare\\n\\nsay that, if it were, the situations would prove not startling or\\n\\ngarish enough for the footlights, the character-scheme too subtle and\\n\\ndelicate for pit and gallery. But if the attempt were made, it would\\n\\ncertainly not be hampered by any of those loosenesses of construction,\\n\\nwhich, sometimes disguised by the conveniences of which the novelist can\\n\\navail himself, appear at once on the stage._\\n\\n_I think, however, though the thought will doubtless seem heretical to\\n\\nmore than one school of critics, that construction is not the highest\\n\\nmerit, the choicest gift, of the novelist. It sets off his other gifts\\n\\nand graces most advantageously to the critical eye; and the want of it\\n\\nwill sometimes mar those graces--appreciably, though not quite\\n\\nconsciously--to eyes by no means ultra-critical. But a very badly-built\\n\\nnovel which excelled in pathetic or humorous character, or which\\n\\ndisplayed consummate command of dialogue--perhaps the rarest of all\\n\\nfaculties--would be an infinitely better thing than a faultless plot\\n\\nacted and told by puppets with pebbles in their mouths. And despite the\\n\\nability which Miss Austen has shown in working out the story, I for one should put_ Pride and Prejudice _far lower if it did not contain what\\n\\nseem to me the very masterpieces of Miss Austen’s humour and of her\\n\\nfaculty of character-creation--masterpieces who may indeed admit John\\n\\nThorpe, the Eltons, Mrs. Norris, and one or two others to their company,\\n\\nbut who, in one instance certainly, and perhaps in others, are still\\n\\nsuperior to them._\\n\\n_The characteristics of Miss Austen’s humour are so subtle and delicate\\n\\nthat they are, perhaps, at all times easier to apprehend than to\\n\\nexpress, and at any particular time likely to be differently\\n\\napprehended by different persons. To me this humour seems to possess a\\n\\ngreater affinity, on the whole, to that of Addison than to any other of\\n\\nthe numerous species of this great British genus. The differences of\\n\\nscheme, of time, of subject, of literary convention, are, of course,\\n\\nobvious enough; the difference of sex does not, perhaps, count for much,\\n\\nfor there was a distinctly feminine element in “Mr. Spectator,” and in\\n\\nJane Austen’s genius there was, though nothing mannish, much that was\\n\\nmasculine. But the likeness of quality consists in a great number of\\n\\ncommon subdivisions of quality--demureness, extreme minuteness of touch, avoidance of loud tones and glaring effects. Also there is in both a\\n\\ncertain not inhuman or unamiable cruelty. It is the custom with those\\n\\nwho judge grossly to contrast the good nature of Addison with the\\n\\nsavagery of Swift, the mildness of Miss Austen with the boisterousness\\n\\nof Fielding and Smollett, even with the ferocious practical jokes that\\n\\nher immediate predecessor, Miss Burney, allowed without very much\\n\\nprotest. Yet, both in Mr. Addison and in Miss Austen there is, though a\\n\\nrestrained and well-mannered, an insatiable and ruthless delight in\\n\\nroasting and cutting up a fool. A man in the early eighteenth century,\\n\\nof course, could push this taste further than a lady in the early\\n\\nnineteenth; and no doubt Miss Austen’s principles, as well as her heart,\\n\\nwould have shrunk from such things as the letter from the unfortunate\\n\\nhusband in the_ Spectator, _who describes, with all the gusto and all the\\n\\ninnocence in the world, how his wife and his friend induce him to play\\n\\nat blind-man’s-buff. But another_ Spectator _letter--that of the damsel\\n\\nof fourteen who wishes to marry Mr. Shapely, and assures her selected\\n\\nMentor that “he admires your_ Spectators _mightily”--might have been',\n",
       " 'written by a rather more ladylike and intelligent Lydia Bennet in the\\n\\ndays of Lydia’s great-grandmother; while, on the other hand, some (I\\n\\nthink unreasonably) have found “cynicism” in touches of Miss Austen’s\\n\\nown, such as her satire of Mrs. Musgrove’s self-deceiving regrets over\\n\\nher son. But this word “cynical” is one of the most misused in the\\n\\nEnglish language, especially when, by a glaring and gratuitous\\n\\nfalsification of its original sense, it is applied, not to rough and\\n\\nsnarling invective, but to gentle and oblique satire. If cynicism means\\n\\nthe perception of “the other side,” the sense of “the accepted hells\\n\\nbeneath,” the consciousness that motives are nearly always mixed, and\\n\\nthat to seem is not identical with to be--if this be cynicism, then\\n\\nevery man and woman who is not a fool, who does not care to live in a\\n\\nfool’s paradise, who has knowledge of nature and the world and life, is\\n\\na cynic. And in that sense Miss Austen certainly was one. She may even\\n\\nhave been one in the further sense that, like her own Mr. Bennet, she',\n",
       " 'took an epicurean delight in dissecting, in displaying, in setting at\\n\\nwork her fools and her mean persons. I think she did take this delight,\\n\\nand I do not think at all the worse of her for it as a woman, while she\\n\\nwas immensely the better for it as an artist._\\n\\n_In respect of her art generally, Mr. Goldwin Smith has truly observed\\n\\nthat “metaphor has been exhausted in depicting the perfection of it,\\n\\ncombined with the narrowness of her field;” and he has justly added that\\n\\nwe need not go beyond her own comparison to the art of a miniature\\n\\npainter. To make this latter observation quite exact we must not use the\\n\\nterm miniature in its restricted sense, and must think rather of Memling\\n\\nat one end of the history of painting and Meissonier at the other, than\\n\\nof Cosway or any of his kind. And I am not so certain that I should\\n\\nmyself use the word “narrow” in connection with her. If her world is a\\n\\nmicrocosm, the cosmic quality of it is at least as eminent as the\\n\\nlittleness. She does not touch what she did not feel herself called to\\n\\npaint; I am not so sure that she could not have painted what she did not\\n\\nfeel herself called to touch. It is at least remarkable that in two very',\n",
       " 'short periods of writing--one of about three years, and another of not\\n\\nmuch more than five--she executed six capital works, and has not left a\\n\\nsingle failure. It is possible that the romantic paste in her\\n\\ncomposition was defective: we must always remember that hardly\\n\\nanybody born in her decade--that of the eighteenth-century\\n\\nseventies--independently exhibited the full romantic quality. Even Scott\\n\\nrequired hill and mountain and ballad, even Coleridge metaphysics and\\n\\nGerman to enable them to chip the classical shell. Miss Austen was an\\n\\nEnglish girl, brought up in a country retirement, at the time when\\n\\nladies went back into the house if there was a white frost which might\\n\\npierce their kid shoes, when a sudden cold was the subject of the\\n\\ngravest fears, when their studies, their ways, their conduct were\\n\\nsubject to all those fantastic limits and restrictions against which\\n\\nMary Wollstonecraft protested with better general sense than particular\\n\\ntaste or judgment. Miss Austen, too, drew back when the white frost\\n\\ntouched her shoes; but I think she would have made a pretty good journey\\n\\neven in a black one._\\n\\n_For if her knowledge was not very extended, she knew two things which\\n\\nonly genius knows. The one was humanity, and the other was art. On the\\n\\nfirst head she could not make a mistake; her men, though limited, are true, and her women are, in the old sense, “absolute.” As to art, if she\\n\\nhas never tried idealism, her realism is real to a degree which makes\\n\\nthe false realism of our own day look merely dead-alive. Take almost any\\n\\nFrenchman, except the late M. de Maupassant, and watch him laboriously\\n\\npiling up strokes in the hope of giving a complete impression. You get\\n\\nnone; you are lucky if, discarding two-thirds of what he gives, you can\\n\\nshape a real impression out of the rest. But with Miss Austen the\\n\\nmyriad, trivial, unforced strokes build up the picture like magic.\\n\\nNothing is false; nothing is superfluous. When (to take the present book\\n\\nonly) Mr. Collins changed his mind from Jane to Elizabeth “while Mrs.\\n\\nBennet was stirring the fire” (and we know_ how _Mrs. Bennet would have\\n\\nstirred the fire), when Mr. Darcy “brought his coffee-cup back_\\n\\nhimself,” _the touch in each case is like that of Swift--“taller by the\\n\\nbreadth of my nail”--which impressed the half-reluctant Thackeray with\\n\\njust and outspoken admiration. Indeed, fantastic as it may seem, I',\n",
       " 'should put Miss Austen as near to Swift in some ways, as I have put her\\n\\nto Addison in others._']"
      ]
     },
     "execution_count": 25,
     "metadata": {},
     "output_type": "execute_result"
    }
   ],
   "source": [
    "ts_3 = KamradtModifiedTextSplitter(splitter=text_splitter)\n",
    "sentences_3 = ts_3.split_text(text)\n",
    "sentences_3"
   ]
  },
  {
   "cell_type": "code",
   "execution_count": 26,
   "id": "0920f3d7-07d1-4508-8637-1701a5f54474",
   "metadata": {},
   "outputs": [
    {
     "data": {
      "text/plain": [
       "10"
      ]
     },
     "execution_count": 26,
     "metadata": {},
     "output_type": "execute_result"
    }
   ],
   "source": [
    "len(sentences_3)"
   ]
  },
  {
   "cell_type": "code",
   "execution_count": null,
   "id": "295e29e4-72d0-4c61-a41d-523ddf57f75e",
   "metadata": {},
   "outputs": [],
   "source": []
  }
 ],
 "metadata": {
  "kernelspec": {
   "display_name": "Python 3 (ipykernel)",
   "language": "python",
   "name": "python3"
  },
  "language_info": {
   "codemirror_mode": {
    "name": "ipython",
    "version": 3
   },
   "file_extension": ".py",
   "mimetype": "text/x-python",
   "name": "python",
   "nbconvert_exporter": "python",
   "pygments_lexer": "ipython3",
   "version": "3.10.14"
  }
 },
 "nbformat": 4,
 "nbformat_minor": 5
}
